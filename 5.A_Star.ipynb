{
  "cells": [
    {
      "cell_type": "markdown",
      "metadata": {
        "id": "fit7pBpFRjKI"
      },
      "source": [
        "**ALGORITMOS DE BÚSQUEDA - A* (A Star)**"
      ]
    },
    {
      "cell_type": "code",
      "execution_count": 1,
      "metadata": {
        "id": "TpisO_kwo1q4"
      },
      "outputs": [],
      "source": [
        "import heapq #El módulo heapq para implementar colas de prioridad (heaps)"
      ]
    },
    {
      "cell_type": "code",
      "execution_count": 2,
      "metadata": {
        "id": "IR8K7QnCpfjV"
      },
      "outputs": [],
      "source": [
        "class Node: #definición de clase node\n",
        "    def __init__(self, state, parent=None, action=None, path_cost=0):\n",
        "        self.state = state #El estado que define el nodo\n",
        "        self.parent = parent #El nodo padre de donde se origina el nodo actual\n",
        "        self.action = action #Action tomada desde el padre para llegar al nodo\n",
        "        self.path_cost = path_cost #costo desde el nodo raiz (estado inicial), hasta el nodo actual\n",
        "\n",
        "    def __lt__(self, other): #comparar dos objetos de clase node basado en el costo\n",
        "        return self.path_cost < other.path_cost"
      ]
    },
    {
      "cell_type": "code",
      "execution_count": 3,
      "metadata": {
        "id": "I4n7q2UKLG-l"
      },
      "outputs": [],
      "source": [
        "def expand(problem, node):\n",
        "    # Completar con la expansión del nodo\n",
        "    s = node.state\n",
        "    for action in problem.actions(s):\n",
        "        state_goal = problem.result(s, action)\n",
        "        cost = node.path_cost + problem.action_cost(s, action, state_goal)\n",
        "        yield Node(state_goal, node, action, cost)"
      ]
    },
    {
      "cell_type": "code",
      "execution_count": 4,
      "metadata": {
        "id": "MW6-XPnPLK0G"
      },
      "outputs": [],
      "source": [
        "class Problem: #DEFINICION DEL PROBLEMA\n",
        "    def __init__(self, initial, goal, actions, result, action_cost, is_goal):\n",
        "        self.initial = initial #Estado inicial\n",
        "        self.goal = goal #Estado objetivo\n",
        "        self.actions = actions #acciones disponibles desde un estado.\n",
        "        self.result = result  #estado resultante de aplicar una acción\n",
        "        self.action_cost = action_cost #costo de una acción\n",
        "        self.is_goal = is_goal #verificación de si el estado es el estado objetivo"
      ]
    },
    {
      "cell_type": "code",
      "execution_count": 16,
      "metadata": {
        "id": "PlP2QMWC0yra"
      },
      "outputs": [],
      "source": [
        "def A_Star(initial, goal):\n",
        "    #Inicialización de las listas abierta y cerrada\n",
        "    openList = [initial]\n",
        "    closedList = []\n",
        "\n",
        "    #Inicialización de los costos\n",
        "    g = 0;\n",
        "    h = heuristic(initial, goal)\n",
        "    f = g + h\n",
        "    parent = None\n",
        "\n",
        "    reached = {problem.initial: node} #registrar los estados alcanzados y su nodo correspondiente.\n",
        "\n",
        "    while openList != []:\n",
        "        # Obtener el nodo con el menor costo f implementando una cola de prioridad\n",
        "        current = openList[0]\n",
        "\n",
        "        #Si el nodo actual es el objetivo, se retorna el camino\n",
        "        if current == goal:\n",
        "            return current\n",
        "        \n",
        "        #Mover el nodo actual a la lista cerrada\n",
        "        openList.remove(current)\n",
        "        closedList.append(current)\n",
        "\n",
        "        #Revisar los nodos hijos del nodo actual\n",
        "        for child in expand(problem, node): #Expande el nodo generando sus nodos hijos.\n",
        "            s = child.state\n",
        "            if s not in reached or child.path_cost < reached[s].path_cost: #Si el estado del nodo hijo no ha sido alcanzado antes o si se alcanza con un costo de camino menor, actualiza el dict y añade el nodo hijo a la frontera.\n",
        "                reached[s] = child\n",
        "                heapq.heappush(frontier, (f(child), child)) # Añade el nodo hijo a la frontera\n",
        "\n",
        "                #Calcular el costo tentativo de g\n",
        "                g2 = g + action_cost(current, child, result)\n",
        "\n",
        "                if child not in openList:\n",
        "                    openList.append(child)\n",
        "\n",
        "                elif g2 < g:\n",
        "                    continue\n",
        "                else:\n",
        "                    openList.remove(child)\n",
        "                    openList.append(child)\n",
        "\n",
        "                #Actualizar los costos y el padre del nodo hijo\n",
        "                child.parent = current\n",
        "                child.g = g2\n",
        "                child.h = heuristic(child, goal)\n",
        "                child.f = child.g + child.h\n",
        "\n",
        "            return None  #Se exploran todos los nodos posibles, y no se encuentra una solución solución\n",
        "\n",
        "    def recover_path(current):\n",
        "        path = []\n",
        "        while current != None:\n",
        "            path.append(current)\n",
        "            current = current.parent\n",
        "        return path\n",
        "    \n",
        "    return recover_path(current)"
      ]
    },
    {
      "cell_type": "code",
      "execution_count": 21,
      "metadata": {
        "colab": {
          "base_uri": "https://localhost:8080/"
        },
        "id": "3WHOQykgwbKc",
        "outputId": "06ff213f-b44a-4f66-e6b6-c968a9f9e6b3"
      },
      "outputs": [
        {
          "ename": "TypeError",
          "evalue": "'dict' object is not callable",
          "output_type": "error",
          "traceback": [
            "\u001b[31m---------------------------------------------------------------------------\u001b[39m",
            "\u001b[31mTypeError\u001b[39m                                 Traceback (most recent call last)",
            "\u001b[36mCell\u001b[39m\u001b[36m \u001b[39m\u001b[32mIn[21]\u001b[39m\u001b[32m, line 129\u001b[39m\n\u001b[32m     76\u001b[39m action_costs = {\n\u001b[32m     77\u001b[39m     \u001b[38;5;66;03m# Completar con los costos de las acciones\u001b[39;00m\n\u001b[32m     78\u001b[39m     (\u001b[33m'\u001b[39m\u001b[33mArad\u001b[39m\u001b[33m'\u001b[39m, \u001b[33m'\u001b[39m\u001b[33mSibiu\u001b[39m\u001b[33m'\u001b[39m): \u001b[32m140\u001b[39m,\n\u001b[32m   (...)\u001b[39m\u001b[32m    125\u001b[39m     (\u001b[33m'\u001b[39m\u001b[33mFagaras\u001b[39m\u001b[33m'\u001b[39m, \u001b[33m'\u001b[39m\u001b[33mBucharest\u001b[39m\u001b[33m'\u001b[39m): \u001b[32m211\u001b[39m,\n\u001b[32m    126\u001b[39m }\n\u001b[32m    128\u001b[39m problem = Problem(initial, goal, \u001b[38;5;28;01mlambda\u001b[39;00m s: actions.get(s, []), result, action_cost, is_goal)\n\u001b[32m--> \u001b[39m\u001b[32m129\u001b[39m solution = \u001b[43mA_Star\u001b[49m\u001b[43m(\u001b[49m\u001b[43mproblem\u001b[49m\u001b[43m,\u001b[49m\u001b[43m \u001b[49m\u001b[43mf\u001b[49m\u001b[43m)\u001b[49m\u001b[38;5;66;03m#Resultado del algoritmo A_Star aplicado al problema definido.\u001b[39;00m\n\u001b[32m    131\u001b[39m \u001b[38;5;28;01mif\u001b[39;00m solution:\n\u001b[32m    132\u001b[39m     path = []\n",
            "\u001b[36mCell\u001b[39m\u001b[36m \u001b[39m\u001b[32mIn[16]\u001b[39m\u001b[32m, line 8\u001b[39m, in \u001b[36mA_Star\u001b[39m\u001b[34m(initial, goal)\u001b[39m\n\u001b[32m      6\u001b[39m \u001b[38;5;66;03m#Inicialización de los costos\u001b[39;00m\n\u001b[32m      7\u001b[39m g = \u001b[32m0\u001b[39m;\n\u001b[32m----> \u001b[39m\u001b[32m8\u001b[39m h = \u001b[43mheuristic\u001b[49m\u001b[43m(\u001b[49m\u001b[43minitial\u001b[49m\u001b[43m,\u001b[49m\u001b[43m \u001b[49m\u001b[43mgoal\u001b[49m\u001b[43m)\u001b[49m\n\u001b[32m      9\u001b[39m f = g + h\n\u001b[32m     10\u001b[39m parent = \u001b[38;5;28;01mNone\u001b[39;00m\n",
            "\u001b[36mCell\u001b[39m\u001b[36m \u001b[39m\u001b[32mIn[21]\u001b[39m\u001b[32m, line 3\u001b[39m, in \u001b[36mheuristic\u001b[39m\u001b[34m(state, goal)\u001b[39m\n\u001b[32m      1\u001b[39m \u001b[38;5;28;01mdef\u001b[39;00m\u001b[38;5;250m \u001b[39m\u001b[34mheuristic\u001b[39m(state, goal):\n\u001b[32m      2\u001b[39m \u001b[38;5;250m    \u001b[39m\u001b[33;03m\"\"\"Función heurística para tu algoritmo A_Star\"\"\"\u001b[39;00m\n\u001b[32m----> \u001b[39m\u001b[32m3\u001b[39m     \u001b[38;5;28;01mreturn\u001b[39;00m \u001b[43mheuristica\u001b[49m\u001b[43m(\u001b[49m\u001b[43mstate\u001b[49m\u001b[43m,\u001b[49m\u001b[43m \u001b[49m\u001b[43mgoal\u001b[49m\u001b[43m)\u001b[49m\n",
            "\u001b[31mTypeError\u001b[39m: 'dict' object is not callable"
          ]
        }
      ],
      "source": [
        "def heuristic(state, goal):\n",
        "    \"\"\"Función heurística para tu algoritmo A_Star\"\"\"\n",
        "    return heuristica(state, goal)\n",
        "\n",
        "def h(state):\n",
        "    \"\"\"Función h para la función f\"\"\"\n",
        "    return heuristica(state, goal)\n",
        "\n",
        "def result(state, action):\n",
        "    return action\n",
        "\n",
        "def action_cost(state, action, result):\n",
        "    return action_costs.get((state, action), float('inf'))#En el caso de que no se encuentre un costo, el valor sera infinito\n",
        "\n",
        "def is_goal(state):\n",
        "    return state == goal\n",
        "\n",
        "def f(node):\n",
        "    \"\"\"Función de evaluación A*: f(n) = g(n) + h(n)\"\"\"\n",
        "    g_n = node.path_cost  # Costo real desde el inicio hasta el nodo actual\n",
        "    h_n = h(node.state)   # Estimación del costo desde el nodo actual hasta el objetivo\n",
        "    return g_n + h_n      # A* = costo real + heurística\n",
        "\n",
        "heuristica = {\n",
        "    'Arad': 366,\n",
        "    'Bucharest': 0,\n",
        "    'Craiova': 160,\n",
        "    'Dobreta': 242,\n",
        "    'Eforie': 161,\n",
        "    'Fagaras': 176,\n",
        "    'Giurgiu': 77,\n",
        "    'Hirsova': 151,\n",
        "    'Iasi': 226,\n",
        "    'Lugoj': 244,\n",
        "    'Mehadia': 241,\n",
        "    'Neamt': 234,\n",
        "    'Oradea': 380,\n",
        "    'Pitesti': 100,\n",
        "    'Rimnicu Vilcea': 193,\n",
        "    'Sibiu': 253,\n",
        "    'Timisoara': 329,\n",
        "    'Urziceni': 80,\n",
        "    'Vaslui': 199,\n",
        "    'Zerind': 374\n",
        "}\n",
        "\n",
        "# Ahora modifica tu función f para que sea A*:\n",
        "def f_astar(node):\n",
        "    \"\"\"A* = g(n) + h(n)\"\"\"\n",
        "    return node.path_cost + heuristica.get(node.state, 0)\n",
        "\n",
        "initial = 'Arad'\n",
        "goal = 'Bucharest'\n",
        "\n",
        "actions = {\n",
        "    # Completar con las acciones disponibles desde cada estado\n",
        "    'Arad': ['Sibiu', 'Timisoara', 'Zerind'],\n",
        "    'Sibiu': ['Arad', 'Oradea', 'Fagaras', 'Rimnicu Vilcea'],\n",
        "    'Timisoara': ['Arad', 'Lugoj'],\n",
        "    'Zerind': ['Arad', 'Oradea'],\n",
        "    'Oradea': ['Sibiu', 'Zerind'],\n",
        "    'Fagaras': ['Sibiu', 'Bucharest'],\n",
        "    'Rimnicu Vilcea': ['Sibiu', 'Pitesti', 'Craiova'],\n",
        "    'Lugoj': ['Timisoara', 'Mehadia'],\n",
        "    'Pitesti': ['Rimnicu Vilcea', 'Craiova', 'Bucharest'],\n",
        "    'Craiova': ['Rimnicu Vilcea', 'Pitesti', 'Dobreta'],\n",
        "    'Mehadia': ['Lugoj', 'Dobreta'],\n",
        "    'Dobreta': ['Mehadia', 'Craiova'],\n",
        "    'Bucharest': ['Fagaras', 'Pitesti', 'Giurgiu', 'Urziceni'],\n",
        "    'Giurgiu': ['Bucharest'],\n",
        "    'Urziceni': ['Bucharest', 'Vaslui', 'Hirsova'],\n",
        "    'Vaslui': ['Urziceni', 'Iasi'],\n",
        "}\n",
        "\n",
        "\n",
        "action_costs = {\n",
        "    # Completar con los costos de las acciones\n",
        "    ('Arad', 'Sibiu'): 140,\n",
        "    ('Arad', 'Timisoara'): 118,\n",
        "    ('Arad', 'Zerind'): 75,\n",
        "    ('Sibiu', 'Arad'): 140,\n",
        "    ('Sibiu', 'Oradea'): 151,\n",
        "    ('Sibiu', 'Fagaras'): 99,\n",
        "    ('Sibiu', 'Rimnicu Vilcea'): 80,\n",
        "    ('Sibiu', 'Zerind'): 75,\n",
        "    ('Timisoara', 'Arad'): 118,\n",
        "    ('Timisoara', 'Lugoj'): 111,\n",
        "    ('Zerind', 'Arad'): 75,\n",
        "    ('Zerind', 'Oradea'): 71,\n",
        "    ('Oradea', 'Sibiu'): 151,\n",
        "    ('Oradea', 'Zerind'): 71,\n",
        "    ('Fagaras', 'Sibiu'): 99,\n",
        "    ('Fagaras', 'Bucharest'): 211,\n",
        "    ('Rimnicu Vilcea', 'Sibiu'): 80,\n",
        "    ('Rimnicu Vilcea', 'Pitesti'): 97,\n",
        "    ('Rimnicu Vilcea', 'Craiova'): 146,\n",
        "    ('Lugoj', 'Timisoara'): 111,\n",
        "    ('Lugoj', 'Mehadia'): 70,\n",
        "    ('Pitesti', 'Rimnicu Vilcea'): 97,\n",
        "    ('Pitesti', 'Craiova'): 138,\n",
        "    ('Pitesti', 'Bucharest'): 101,\n",
        "    ('Craiova', 'Rimnicu Vilcea'): 146,\n",
        "    ('Craiova', 'Pitesti'): 138,\n",
        "    ('Craiova', 'Dobreta'): 120,\n",
        "    ('Mehadia', 'Lugoj'): 70,\n",
        "    ('Mehadia', 'Dobreta'): 75,\n",
        "    ('Bucharest', 'Fagaras'): 211,\n",
        "    ('Bucharest', 'Pitesti'): 101,\n",
        "    ('Bucharest', 'Giurgiu'): 90,\n",
        "    ('Bucharest', 'Urziceni'): 85,\n",
        "    ('Giurgiu', 'Bucharest'): 90,\n",
        "    ('Urziceni', 'Bucharest'): 85,\n",
        "    ('Urziceni', 'Vaslui'): 142,\n",
        "    ('Urziceni', 'Hirsova'): 98,\n",
        "    ('Vaslui', 'Urziceni'): 142,\n",
        "    ('Vaslui', 'Iasi'): 92,\n",
        "    ('Iasi', 'Vaslui'): 92,\n",
        "    ('Iasi', 'Neamt'): 87,\n",
        "    ('Hirsova', 'Urziceni'): 98,\n",
        "    ('Hirsova', 'Eforie'): 86,\n",
        "    ('Eforie', 'Hirsova'): 86,\n",
        "    ('Neamt', 'Iasi'): 87,\n",
        "    ('Dobreta', 'Craiova'): 120,\n",
        "    ('Dobreta', 'Mehadia'): 75,\n",
        "    ('Fagaras', 'Bucharest'): 211,\n",
        "}\n",
        "\n",
        "problem = Problem(initial, goal, lambda s: actions.get(s, []), result, action_cost, is_goal)\n",
        "solution = A_Star(problem, f)#Resultado del algoritmo A_Star aplicado al problema definido.\n",
        "\n",
        "if solution:\n",
        "    path = []\n",
        "    while solution:\n",
        "        path.append(solution.state)\n",
        "        solution = solution.parent\n",
        "    path.reverse()\n",
        "    print(\"Solution path:\", path)\n",
        "else:\n",
        "    print(\"No solution found\")\n",
        "\n"
      ]
    },
    {
      "cell_type": "code",
      "execution_count": null,
      "metadata": {},
      "outputs": [],
      "source": [
        "\n"
      ]
    },
    {
      "cell_type": "code",
      "execution_count": null,
      "metadata": {},
      "outputs": [],
      "source": []
    }
  ],
  "metadata": {
    "colab": {
      "provenance": []
    },
    "kernelspec": {
      "display_name": "Python 3",
      "language": "python",
      "name": "python3"
    },
    "language_info": {
      "codemirror_mode": {
        "name": "ipython",
        "version": 3
      },
      "file_extension": ".py",
      "mimetype": "text/x-python",
      "name": "python",
      "nbconvert_exporter": "python",
      "pygments_lexer": "ipython3",
      "version": "3.12.10"
    }
  },
  "nbformat": 4,
  "nbformat_minor": 0
}
